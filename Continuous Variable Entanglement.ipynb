{
 "cells": [
  {
   "cell_type": "markdown",
   "metadata": {},
   "source": [
    "### Paper\n",
    "This work follows the method given in _\"Truly unentangled photon pairs without spectral filtering\"_ Vernon 2017\n"
   ]
  },
  {
   "cell_type": "markdown",
   "metadata": {},
   "source": [
    "_Latex commands in this cell_\n",
    "$\\newcommand{\\ket}[1]{\\left|{#1}\\right\\rangle}$\n",
    "$\\newcommand{\\bra}[1]{\\left\\langle{#1}\\right|}$\n",
    "$\\newcommand{\\braket}[2]{\\left\\langle{#1} \\middle| {#2}\\right\\rangle}$\n",
    "$\\DeclareMathOperator{\\Tr}{\\text{Tr}}$\n",
    "\n",
    "$\\DeclareMathOperator{\\vect}{vec}$"
   ]
  },
  {
   "cell_type": "code",
   "execution_count": 1,
   "metadata": {},
   "outputs": [],
   "source": [
    "import numpy as np\n",
    "import matplotlib.pyplot as plt\n",
    "import warnings\n",
    "# warnings.filterwarnings('ignore')"
   ]
  },
  {
   "cell_type": "markdown",
   "metadata": {},
   "source": [
    "### Hamiltonian\n",
    "\n",
    "The hamiltonian for Kerr-frequency comb generation is:\n",
    "\n",
    "$H = \\sum_{i=-N}^{N}{\\delta_i\\hat{a}_i^\\dagger\\hat{a}_i} +g_0 \\sum_{i,j,k,l=-N}^{N}\\delta\\left(i+j-k-l \\right)\\hat{a}_i^\\dagger\\hat{a}_j^\\dagger \\hat{a}_k\\hat{a}_l$\n",
    "\n",
    "in which $\\delta_j = \\omega_0 - \\omega_p + \\frac{j^2D_2}{2}$ is the effective detuning of mode $j$, taking into account the second-order dispersion $D_2$.\n",
    "\n",
    "This can be solved using a linearised set of equations, in which each mode has a classical field of amplitude $\\alpha_i$ with quantum fluctuations of $\\delta \\hat{a}_i$.\n",
    "\n",
    "The classical amplitudes are solved using the LLE:\n",
    "\n",
    "$\\frac{d}{dt}\\alpha_i = \\beta_i \\alpha_i -ig_0 \\sum_{j,k,l}{\\alpha_j^*\\alpha_k\\alpha_l + \\delta\\left(i\\right)\\epsilon_p}$\n",
    "\n",
    "where $\\beta_i = -i \\delta_i - \\kappa_i$ incorporates the detuning and loss in mode $i$, the pump $\\epsilon_p$ is on the $0^{th}$ mode. The summation takes place over $(j,k,l)$ such that $i=k+l-j$."
   ]
  },
  {
   "cell_type": "markdown",
   "metadata": {},
   "source": [
    "### Quantum  Fluctuations\n",
    "\n",
    "The quantum fluctuations then evolve according to Eq. 3 in the paper:\n",
    "\n",
    "$\\frac{d}{dt}\\delta \\hat{a}_i = \\beta_i\\hat{a}_i +  \\sqrt{2 \\kappa_i}\\hat{a}_i^{in} - ig_0 \\sum_{j,k,l} \\left(\\alpha_k \\alpha_l \\delta\\hat{a}_j^\\dagger + \\alpha_j^*\\alpha_l\\delta\\hat{a}_k + \\alpha_j^*\\alpha_k\\delta\\hat{a}_l \\right)$\n",
    "\n",
    "which implies:\n",
    "\n",
    "$\\frac{d}{dt}\\delta \\hat{a}_i^\\dagger = \\beta_i^*\\hat{a}_i^\\dagger +  \\sqrt{2 \\kappa_i}\\hat{a}_i^{\\dagger,in} + ig_0 \\sum_{j,k,l} \\left(\\alpha_k^* \\alpha_l^* \\delta\\hat{a}_j + \\alpha_j\\alpha_l^*\\delta\\hat{a}_k^\\dagger + \\alpha_j\\alpha_k^*\\delta\\hat{a}_l^\\dagger \\right)$\n",
    "\n",
    "these will now be treated in the quadrature basis, with:\n",
    "\n",
    "$\\hat{X}_i = \\frac{\\delta \\hat{a}_i +\\delta \\hat{a}_i^\\dagger}{\\sqrt{2}}$, $\\hat{Y}_i = \\frac{i\\left(\\delta \\hat{a}_i^\\dagger -\\delta \\hat{a}_i \\right)}{\\sqrt{2}}$\n",
    "\n",
    "Accordingly, $A \\delta \\hat{a}_i +B \\delta \\hat{a}_i^\\dagger$ transforms to $C\\hat{X}_i + D\\hat{Y}_i$ in which $C = \\sqrt{2}\\left(A+B \\right)$ and $D = \\sqrt{2}i\\left(A-B \\right)$ with special cases when $B=\\pm A^*$. \n",
    "\n",
    "This yields:\n",
    "\n",
    "$\\frac{d}{dt}\\hat{X}_i = \\left(\\Re\\left(\\beta_i\\right)\\hat{X}_i + i\\Im\\left(\\beta_i\\right)\\hat{Y}_i + \\sum_{j,k,l}{\\Im\\left(\\alpha_k^*\\alpha_l^*\\right)\\hat{X}_j+i\\Re\\left(\\alpha_k^*\\alpha_l^*\\right)\\hat{Y}_j} - \\Im\\left(\\alpha_j^*\\alpha_l\\right)\\hat{X}_k - i\\Re\\left(\\alpha_j^*\\alpha_l\\right)\\hat{Y}_k - \\Im\\left(\\alpha_j^*\\alpha_k\\right)\\hat{X}_l - i\\Re\\left(\\alpha_j^*\\alpha_k\\right)\\hat{Y}_l\\right) +\\sqrt{2\\kappa_i}\\hat{X}_i^{in}$\n",
    "and\n",
    "$\\frac{d}{dt}\\hat{Y}_i = \\left(-i \\Im\\left(\\beta_i\\right)\\hat{X}_i +\\Re{\\left(\\beta_i\\right)}\\hat{Y}_i +\\sum_{j,k,l} i\\Re\\left(\\alpha_k^*\\alpha_l^* \\right)\\hat{X}_j - \\Im\\left(\\alpha_k^*\\alpha_l^* \\right)\\hat{Y}_j +  i\\Re\\left(\\alpha_j^* \\alpha_l \\right) \\hat{X}_k -\\Im\\left(\\alpha_j^* \\alpha_l \\right) \\hat{Y}_k +  i\\Re\\left(\\alpha_j^* \\alpha_k \\right) \\hat{X}_l -\\Im\\left(\\alpha_j^* \\alpha_k \\right) \\hat{Y}_l                                      \\right) + \\sqrt{2\\kappa_i}\\hat{Y}_i^{in}$"
   ]
  },
  {
   "cell_type": "markdown",
   "metadata": {},
   "source": [
    "Now this can be given as a matrix equation, in which the total state can be represented by:\n",
    "\n",
    "$\\overrightarrow{Q} = \\left\\{\\hat{X}_{-N}, \\hat{Y}_{-N},\\hat{X}_{-N+1}, \\hat{Y}_{-N+1}, ..., \\hat{X}_{N}, \\hat{Y}_{N} \\right\\}^T$\n",
    "\n",
    "such that:\n",
    "\n",
    "$\\frac{d}{dt}\\overrightarrow{Q} =  \\pmb{M} \\cdot \\overrightarrow{Q} + \\overrightarrow{n}\\left( t\\right)$\n",
    "\n",
    "in which the input noise is:\n",
    "\n",
    "$\\overrightarrow{n}\\left( t\\right) = \\left\\{\\sqrt{2\\kappa_{-N}}\\hat{X}_{-N}^{in}, \\sqrt{2\\kappa_{-N}}\\hat{Y}_{-N}^{in} ,...,\\sqrt{2\\kappa_{N}}\\hat{X}_{N}^{in}, \\sqrt{2\\kappa_{N}}\\hat{Y}_{N}^{in} \\right\\}^T$"
   ]
  },
  {
   "cell_type": "markdown",
   "metadata": {},
   "source": [
    "From the equations of motion for the quadrature variables, we can derive the values of the matrix $\\pmb{M}$:\n",
    "\n",
    "$\\pmb{M} = \\begin{bmatrix}m_{11}&m_{12}&\\dots&m_{1K}\\\\m_{21}&m_{22} & \\dots & m_{2K} \\\\ \\vdots& \\vdots & \\ddots & \\vdots\\\\ m_{K1}&m_{K2}&\\dots &m_{KK}\\end{bmatrix}$\n",
    "\n",
    "$\\begin{align*}\n",
    "m_{ab} = \\begin{cases}\n",
    "{y_{ab}, a \\text{ is odd} \\\\\n",
    "z_{ab}, a\\text{ is even}} \n",
    "\\end{cases}\n",
    "\\end{align*}$\n",
    "\n",
    "$y_{ab} = \\begin{cases} \\Re\\left(\\beta_{\\frac{a+1}{2}}\\right), b=a  \\\\\n",
    "i\\Im\\left(\\beta_{\\frac{a+1}{2}}\\right), b=a+1  \\\\\n",
    "\\sum_{d=-N}^{N}\\Im\\left({\\alpha_d^*\\alpha_{\\frac{a+1}{2}+\\frac{b+1}{2}-d}^*  - 2 \\alpha_d^* \\alpha_{\\frac{a+1}{2}+d-\\frac{b+1}{2}}}\\right), b\\neq a \\text{ and is odd}\\\\\n",
    "\\sum_{d=-N}^{N}i\\Re\\left({\\alpha_d^*\\alpha_{\\frac{a+1}{2}+\\frac{b}{2}-d}^*  - 2 \\alpha_d^* \\alpha_{\\frac{a+1}{2}+d-\\frac{b}{2}}}\\right), b\\neq a+1 \\text{ and is even}\n",
    "\\end{cases}$\n",
    "\n",
    "\n",
    "$z_{ab} = \\begin{cases} \\Re\\left(\\beta_{\\frac{a}{2}}\\right), b=a  \\\\\n",
    "-i\\Im\\left(\\beta_{\\frac{a}{2}}\\right), b=a-1  \\\\\n",
    "i\\Re \\left(\\sum_{d=-N}^{N}{\\alpha_d}^* \\alpha_{\\frac{a}{2}+\\frac{b+1}{2}-d}^* + 2 \\alpha_d^*\\alpha_{\\frac{a}{2}+c-\\frac{b+1}{2}}\\right), b\\neq a-1 \\text{ and is odd}\\\\\n",
    "-\\Im \\left(\\sum_{d=-N}^{N}{\\alpha_d}^* \\alpha_{\\frac{a}{2}+\\frac{b}{2}-d}^* + 2 \\alpha_d^*\\alpha_{\\frac{a}{2}+c-\\frac{b}{2}}\\right), b\\neq a \\text{ and is even}\n",
    "\\end{cases}$\n",
    "\n",
    "\n",
    "NB) The summation terms for $y_{ab}$ and $z_{ab}$ are only taken for valid values of the summation index (i.e. where it corresponds to a value between $-N:N$)."
   ]
  },
  {
   "cell_type": "markdown",
   "metadata": {},
   "source": [
    "### Correlation Matrix\n",
    "The correlation matrix $\\pmb{V}$ can then be calculated from (derivation given in Optomechanical entanglement between a movable mirror and acavity field, 2007):\n",
    "\n",
    "$\\pmb{M}\\pmb{V}+\\pmb{V}\\pmb{M}^T=-\\pmb{D}$\n",
    "\n",
    "where $\\pmb{D}$ is a noise term (to be derived shortly).\n",
    "\n",
    "Vectorising this equation, using the relation $\\vect\\left({\\pmb{A}\\pmb{B}}\\right) = \\left(\\pmb{I}_k \\bigotimes \\pmb{A} \\right)\\vect\\left(\\pmb{B}\\right) = \\left(\\pmb{B}^T \\bigotimes \\pmb{I}_k\\right)\\vect\\left(\\pmb{A}\\right)$\n",
    "\n",
    "So the correlation matrix can be found from:\n",
    "\n",
    "$\\left(\\pmb{I}_k \\bigotimes \\pmb{M} \\right)\\vect\\left(V\\right) + \\left(\\pmb{M} \\bigotimes \\pmb{I}_k \\right)\\vect\\left(V\\right) = - \\vect \\left(\\pmb{D} \\right)$\n",
    "\n",
    "$\\vect\\left(\\pmb{V} \\right) = - \\left(\\left\\{\\pmb{I}_k \\bigotimes \\pmb{M} \\right\\}+\\left\\{\\pmb{M} \\bigotimes \\pmb{I}_k \\right\\}\\right)^{-1}\\vect\\left(\\pmb{D}\\right)$\n",
    "\n",
    "from which all elements of $\\pmb{V}$ can be found."
   ]
  },
  {
   "cell_type": "code",
   "execution_count": null,
   "metadata": {},
   "outputs": [],
   "source": []
  }
 ],
 "metadata": {
  "kernelspec": {
   "display_name": "Python 3",
   "language": "python",
   "name": "python3"
  },
  "language_info": {
   "codemirror_mode": {
    "name": "ipython",
    "version": 3
   },
   "file_extension": ".py",
   "mimetype": "text/x-python",
   "name": "python",
   "nbconvert_exporter": "python",
   "pygments_lexer": "ipython3",
   "version": "3.8.3"
  }
 },
 "nbformat": 4,
 "nbformat_minor": 4
}
