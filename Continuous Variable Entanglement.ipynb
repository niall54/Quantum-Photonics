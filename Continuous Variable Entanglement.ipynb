{
 "cells": [
  {
   "cell_type": "markdown",
   "metadata": {},
   "source": [
    "### Paper\n",
    "This work follows the method given in _\"Multi-color continuous-variable quantum entanglement in dissipative Kerr solitons\"_ Li 2021\n"
   ]
  },
  {
   "cell_type": "markdown",
   "metadata": {},
   "source": [
    "_Latex commands in this cell_\n",
    "$\\newcommand{\\ket}[1]{\\left|{#1}\\right\\rangle}$\n",
    "$\\newcommand{\\bra}[1]{\\left\\langle{#1}\\right|}$\n",
    "$\\newcommand{\\braket}[2]{\\left\\langle{#1} \\middle| {#2}\\right\\rangle}$\n",
    "$\\DeclareMathOperator{\\Tr}{\\text{Tr}}$\n",
    "$\\newcommand{\\exp}[1]{\\left\\langle{#1}\\right\\rangle}$\n",
    "$\\DeclareMathOperator{\\vect}{vec}$"
   ]
  },
  {
   "cell_type": "code",
   "execution_count": 1,
   "metadata": {},
   "outputs": [],
   "source": [
    "import numpy as np\n",
    "import matplotlib.pyplot as plt\n",
    "import warnings\n",
    "# warnings.filterwarnings('ignore')"
   ]
  },
  {
   "cell_type": "markdown",
   "metadata": {},
   "source": [
    "### Hamiltonian\n",
    "\n",
    "The hamiltonian for Kerr-frequency comb generation is:\n",
    "\n",
    "$H = \\sum_{i=-N}^{N}{\\delta_i\\hat{a}_i^\\dagger\\hat{a}_i} +g_0 \\sum_{i,j,k,l=-N}^{N}\\delta\\left(i+j-k-l \\right)\\hat{a}_i^\\dagger\\hat{a}_j^\\dagger \\hat{a}_k\\hat{a}_l$\n",
    "\n",
    "in which $\\delta_j = \\omega_0 - \\omega_p + \\frac{j^2D_2}{2}$ is the effective detuning of mode $j$, taking into account the second-order dispersion $D_2$.\n",
    "\n",
    "This can be solved using a linearised set of equations, in which each mode has a classical field of amplitude $\\alpha_i$ with quantum fluctuations of $\\delta \\hat{a}_i$.\n",
    "\n",
    "The classical amplitudes are solved using the LLE:\n",
    "\n",
    "$\\frac{d}{dt}\\alpha_i = \\beta_i \\alpha_i -ig_0 \\sum_{j,k,l}\\delta_{i+j-k-l}{\\alpha_j^*\\alpha_k\\alpha_l + \\delta\\left(i\\right)\\epsilon_p}$\n",
    "\n",
    "where $\\beta_i = -i \\delta_i - \\kappa_i$ incorporates the detuning and loss in mode $i$, the pump $\\epsilon_p$ is on the $0^{th}$ mode. The summation takes place over $(j,k,l)$ such that $i=k+l-j$ (conservation of energy)."
   ]
  },
  {
   "cell_type": "markdown",
   "metadata": {},
   "source": [
    "# Quantum  Fluctuations\n",
    "\n",
    "The quantum fluctuations then evolve according to Eq. 3 in the paper:\n",
    "\n",
    "$\\frac{d}{dt}\\delta \\hat{a}_i = \\beta_i\\hat{a}_i +  \\sqrt{2 \\kappa_i}\\hat{a}_i^{in} - ig_0 \\sum_{j,k,l}\\delta_{i+j-k-l} \\left(\\alpha_k \\alpha_l \\delta\\hat{a}_j^\\dagger + \\alpha_j^*\\alpha_l\\delta\\hat{a}_k + \\alpha_j^*\\alpha_k\\delta\\hat{a}_l \\right)$\n",
    "\n",
    "which implies:\n",
    "\n",
    "$\\frac{d}{dt}\\delta \\hat{a}_i^\\dagger = \\beta_i^*\\hat{a}_i^\\dagger +  \\sqrt{2 \\kappa_i}\\hat{a}_i^{\\dagger,in} + ig_0 \\sum_{j,k,l}\\delta_{i+j-k-l} \\left(\\alpha_k^* \\alpha_l^* \\delta\\hat{a}_j + \\alpha_j\\alpha_l^*\\delta\\hat{a}_k^\\dagger + \\alpha_j\\alpha_k^*\\delta\\hat{a}_l^\\dagger \\right)$\n",
    "\n",
    "these will now be treated in the quadrature basis, with:\n",
    "\n",
    "$\\hat{X}_i = \\frac{\\delta \\hat{a}_i +\\delta \\hat{a}_i^\\dagger}{\\sqrt{2}}$, $\\hat{Y}_i = \\frac{i\\left(\\delta \\hat{a}_i^\\dagger -\\delta \\hat{a}_i \\right)}{\\sqrt{2}}$\n",
    "\n",
    "such that:\n",
    "\n",
    "$\n",
    "\\begin{align}\n",
    "\\frac{d}{dt}\\hat{X}_i &= \\frac{1}{\\sqrt{2}}\\left(\\frac{d}{dt}\\delta \\hat{a}_i^\\dagger +\\frac{d}{dt}\\delta \\hat{a}_i \\right) \\\\\n",
    "\\frac{d}{dt}\\hat{Y}_i &= \\frac{i}{\\sqrt{2}}\\left(\\frac{d}{dt}\\delta \\hat{a}_i^\\dagger -\\frac{d}{dt}\\delta \\hat{a}_i \\right)\n",
    "\\end{align}\n",
    "$"
   ]
  },
  {
   "cell_type": "markdown",
   "metadata": {},
   "source": [
    "#### Useful complex number and quadrature operator identities\n",
    "In these identities, $A$ is taken as a complex number.\n",
    "\n",
    "$\n",
    "\\begin{align}\n",
    "\\frac{A}{\\sqrt{2}} \\left(\\delta \\hat{a}_i^\\dagger +\\delta \\hat{a}_i \\right) &= A \\hat{X}_i \\\\\n",
    "\\frac{Ai}{\\sqrt{2}} \\left(\\delta \\hat{a}_i^\\dagger -\\delta \\hat{a}_i \\right) &= A \\hat{Y}_i \\\\\n",
    "\\frac{1}{\\sqrt{2}} \\left(A\\delta \\hat{a}_i^\\dagger + A^\\star \\hat{a}_i \\right) &= \\Re\\left(A \\right) \\hat{X}_i +\\Im\\left(A \\right) \\hat{Y}_i \\\\\n",
    "\\Re\\left(iA\\right) &= -\\Im\\left(A\\right) \\\\\n",
    "\\Im\\left(iA\\right) &= \\Re\\left(A\\right)\n",
    "\\end{align}\n",
    "$"
   ]
  },
  {
   "cell_type": "markdown",
   "metadata": {},
   "source": [
    "$\n",
    "\\begin{align}\n",
    "\\frac{d}{dt} \\hat{X}_i &= \\frac{1}{\\sqrt{2}}\\left(\\beta_i^\\star \\hat{a}_i^\\dagger +\\beta_i \\hat{a}_i\\right) \\\\\n",
    "& +\\sqrt{2\\kappa_i}\\frac{1}{\\sqrt{2}}\\left(\\hat{a}_i^{\\dagger,in}+\\hat{a}_i^{in} \\right) \\\\\n",
    "& +g_0 \\sum_{j,k,l}\\delta_{i+j-k-l}\\left(\\frac{-1}{\\sqrt{2}}\\left(i\\alpha_k\\alpha_l\\hat{a}_j^\\dagger-i\\alpha_k^*\\alpha_l^*\\hat{a}_j \\right) \n",
    "+\\frac{1}{\\sqrt{2}}\\left(i\\alpha_j\\alpha_l^*\\hat{a}_k^\\dagger-i\\alpha_j^*\\alpha_l\\hat{a}_k \\right) \n",
    "+\\frac{1}{\\sqrt{2}}\\left(i\\alpha_j\\alpha_k^*\\hat{a}_l^\\dagger-i\\alpha_j^*\\alpha_k\\hat{a}_l \\right) \n",
    "\\right)\\\\\n",
    "& = \\Re\\left(\\beta_i^*\\right)\\hat{X}_i + \\Im\\left(\\beta_i^*\\right)\\hat{Y}_i +\\sqrt{2\\kappa_i}\\hat{X}_i^{in} + g_0\\sum_{j,k,l}\\delta_{i+j-k-l} -\\Re\\left(i\\alpha_k\\alpha_l\\right)\\hat{X}_j -\\Im\\left(i\\alpha_k\\alpha_l\\right)\\hat{Y}_j +\\Re\\left(i\\alpha_j\\alpha_l^*\\right)\\hat{X}_k +\\Im\\left(i\\alpha_j\\alpha_l^*\\right)\\hat{Y}_k +\\Re\\left(i\\alpha_j\\alpha_k^*\\right)\\hat{X}_l +\\Im\\left(i\\alpha_j\\alpha_k^*\\right)\\hat{Y}_l \\\\\n",
    "& = \\Re\\left(\\beta_i\\right)\\hat{X}_i - \\Im\\left(\\beta_i\\right)\\hat{Y}_i +\\sqrt{2\\kappa_i}\\hat{X}_i^{in} + g_0\\sum_{j,k,l}\\delta_{i+j-k-l}\\Im\\left(\\alpha_k\\alpha_l\\right)\\hat{X}_j -\\Re\\left(\\alpha_k\\alpha_l\\right)\\hat{Y}_j -\\Im\\left(\\alpha_j\\alpha_l^*\\right)\\hat{X}_k +\\Re\\left(\\alpha_j\\alpha_l^*\\right)\\hat{Y}_k -\\Im\\left(\\alpha_j\\alpha_k^*\\right)\\hat{X}_l +\\Re\\left(\\alpha_j\\alpha_k^*\\right)\\hat{Y}_l\\\\\n",
    "\\end{align}\n",
    "$"
   ]
  },
  {
   "cell_type": "markdown",
   "metadata": {},
   "source": [
    "$\n",
    "\\begin{align}\n",
    "\\frac{d}{dt} \\hat{Y}_i &= \\frac{i}{\\sqrt{2}}\\left(\\beta_i^\\star \\hat{a}_i^\\dagger -\\beta_i \\hat{a}_i\\right) \\\\\n",
    "& +\\sqrt{2\\kappa_i}\\frac{i}{\\sqrt{2}}\\left(\\hat{a}_i^{\\dagger,in}-\\hat{a}_i^{in} \\right) \\\\\n",
    "& -g_0 \\sum_{j,k,l}\\delta_{i+j-k-l}\\left(\\frac{1}{\\sqrt{2}}\\left(\\alpha_k\\alpha_l\\hat{a}_j^\\dagger+\\alpha_k^*\\alpha_l^*\\hat{a}_j \\right) \n",
    "+\\frac{1}{\\sqrt{2}}\\left(\\alpha_j\\alpha_l^*\\hat{a}_k^\\dagger+\\alpha_j^*\\alpha_l\\hat{a}_k \\right) \n",
    "+\\frac{1}{\\sqrt{2}}\\left(\\alpha_j\\alpha_k^*\\hat{a}_l^\\dagger+\\alpha_j^*\\alpha_k\\hat{a}_l \\right) \n",
    "\\right)\\\\\n",
    "&= \\Re\\left(i\\beta_i^*\\right)\\hat{X}_i + \\Im\\left(i\\beta_i^*\\right)\\hat{Y}_i +\\sqrt{2\\kappa_i}\\hat{Y}_i - g_0\\sum_{j,k,l}\\delta_{i+j-k-l} \\Re\\left(\\alpha_k\\alpha_l\\right)\\hat{X}_j + \\Im\\left(\\alpha_k\\alpha_l\\right)\\hat{Y}_j +\\Re\\left(\\alpha_j\\alpha_l^*\\right)\\hat{X}_k + \\Im\\left(\\alpha_j\\alpha_l^*\\right)\\hat{Y}_k+\\Re\\left(\\alpha_j\\alpha_k^*\\right)\\hat{X}_l + \\Im\\left(\\alpha_j\\alpha_k^*\\right)\\hat{Y}_l\\\\\n",
    "&= \\Im\\left(\\beta_i\\right)\\hat{X}_i + \\Re\\left(\\beta_i\\right)\\hat{Y}_i +\\sqrt{2\\kappa_i}\\hat{Y}_i - g_0\\sum_{j,k,l}\\delta_{i+j-k-l} \\Re\\left(\\alpha_k\\alpha_l\\right)\\hat{X}_j + \\Im\\left(\\alpha_k\\alpha_l\\right)\\hat{Y}_j +\\Re\\left(\\alpha_j\\alpha_l^*\\right)\\hat{X}_k + \\Im\\left(\\alpha_j\\alpha_l^*\\right)\\hat{Y}_k+\\Re\\left(\\alpha_j\\alpha_k^*\\right)\\hat{X}_l + \\Im\\left(\\alpha_j\\alpha_k^*\\right)\\hat{Y}_l\n",
    "\\end{align}\n",
    "$"
   ]
  },
  {
   "cell_type": "markdown",
   "metadata": {},
   "source": [
    "Now let\n",
    "\n",
    "$\n",
    "\\begin{align}\n",
    "\\overrightarrow{x} &= \\left\\{\\hat{X}_{-N}, \\hat{X}_{-N+1}, ..., \\hat{X}_{N},\\right\\}^T\\\\\n",
    "\\overrightarrow{y} &= \\left\\{\\hat{Y}_{-N}, \\hat{Y}_{-N+1}, ..., \\hat{Y}_{N},\\right\\}^T\n",
    "\\end{align}\n",
    "$\n",
    "\n",
    "such that the above equations of motion for the quadratures can be expressed as:\n",
    "\n",
    "$\n",
    "\\begin{align}\n",
    "\\frac{d}{dt}\\overrightarrow{x} &= \\pmb{A}\\overrightarrow{x} + \\pmb{B}\\overrightarrow{y} + \\pmb{\\kappa}\\overrightarrow{x^{in}}\\\\\n",
    "\\frac{d}{dt}\\overrightarrow{y} &= \\pmb{C}\\overrightarrow{x} + \\pmb{D}\\overrightarrow{y} + \\pmb{\\kappa}\\overrightarrow{y^{in}}\n",
    "\\end{align}\n",
    "$\n",
    "\n",
    "where $\\pmb{\\kappa}$ is the diagonal matrix with the $i^{th}$ element being $\\sqrt{2\\kappa_i}$, and the matrix elements given by:\n",
    "\n",
    "$\n",
    "\\begin{align}\n",
    "\\pmb{A}_{i,j} &= \\delta_{i-j}\\Re\\left(\\beta_i\\right) + g_0 \\sum_c \\Im\\left(\\alpha_c \\alpha_{i+j-c} \\right) - 2\\Im\\left(\\alpha_c \\alpha_{c+i-j} \\right)\\\\\n",
    "\\pmb{B}_{i,j} &= -\\delta_{i-j}\\Im\\left(\\beta_i \\right) -g_0\\sum_c \\Re\\left(\\alpha_c\\alpha_{i+j-c}\\right)-2\\Re\\left(\\alpha_c \\alpha_{c+i-j} \\right)\\\\\n",
    "\\pmb{C}_{i,j} &= \\delta_{i-j}\\Im\\left(\\beta_i \\right) -g_0\\sum_c \\Re\\left(\\alpha_c\\alpha_{i+j-c}\\right)\n",
    "+2\\Re\\left(\\alpha_c \\alpha_{c+i-j} \\right)\\\\\n",
    "\\pmb{D}_{i,j} &= \\delta_{i-j}\\Re\\left(\\beta_i \\right) -g_0\\sum_c \\Im\\left(\\alpha_c\\alpha_{i+j-c}\\right)\n",
    "+2\\Im\\left(\\alpha_c \\alpha_{c+i-j} \\right)\n",
    "\\end{align}\n",
    "$"
   ]
  },
  {
   "cell_type": "markdown",
   "metadata": {},
   "source": [
    "Now this can be given as a matrix equation, in which the total state can be represented by:\n",
    "\n",
    "$\\overrightarrow{Q} = \\left\\{\\hat{X}_{-N}, \\hat{Y}_{-N},\\hat{X}_{-N+1}, \\hat{Y}_{-N+1}, ..., \\hat{X}_{N}, \\hat{Y}_{N} \\right\\}^T$\n",
    "\n",
    "such that:\n",
    "\n",
    "$\\frac{d}{dt}\\overrightarrow{Q} =  \\pmb{M} \\cdot \\overrightarrow{Q} + \\overrightarrow{n}\\left( t\\right)$\n",
    "\n",
    "in which the input noise is:\n",
    "\n",
    "$\\overrightarrow{n}\\left( t\\right) = \\left\\{\\sqrt{2\\kappa_{-N}}\\hat{X}_{-N}^{in}, \\sqrt{2\\kappa_{-N}}\\hat{Y}_{-N}^{in} ,...,\\sqrt{2\\kappa_{N}}\\hat{X}_{N}^{in}, \\sqrt{2\\kappa_{N}}\\hat{Y}_{N}^{in} \\right\\}^T$"
   ]
  },
  {
   "cell_type": "markdown",
   "metadata": {},
   "source": [
    "From the equations of motion for the quadrature vectors, we can derive the values of the matrix $\\pmb{M}$:\n",
    "\n",
    "$\n",
    "\\pmb{M} = \\pmb{A}\\otimes \\begin{bmatrix}1&0\\\\0&0\\end{bmatrix} + \\pmb{B}\\otimes \\begin{bmatrix}0&1\\\\0&0\\end{bmatrix} +\\pmb{C}\\otimes \\begin{bmatrix}0&0\\\\1&0\\end{bmatrix} + \\pmb{D}\\otimes \\begin{bmatrix}0&0\\\\0&1\\end{bmatrix}\n",
    "$"
   ]
  },
  {
   "cell_type": "markdown",
   "metadata": {},
   "source": [
    "### Correlation Matrix\n",
    "The correlation matrix $\\pmb{V}$ can then be calculated from (derivation given in Optomechanical entanglement between a movable mirror and acavity field, 2007):\n",
    "\n",
    "$\\pmb{M}\\pmb{V}+\\pmb{V}\\pmb{M}^T=-\\pmb{D}$\n",
    "\n",
    "where $\\pmb{D}$ is a noise term:"
   ]
  },
  {
   "cell_type": "markdown",
   "metadata": {},
   "source": [
    "### Noise Matrix\n",
    "\n",
    "The matrix $\\pmb{D}$ is the noise matrix with elements:\n",
    "\n",
    "$\\begin{align*}\n",
    "D_{ij} &= \\frac{\\exp{n_in_j+n_jn_i}}{2}\n",
    "\\end{align*}$\n",
    "\n",
    "$\\pmb{D} = \\begin{bmatrix}\\sqrt{2\\kappa_{-N}}&0&0&0&\\dots&0\\\\0&\\sqrt{2\\kappa_{-N}} & 0 & 0 &\\dots & 0 \\\\\n",
    "0&0&\\sqrt{2\\kappa_{-N+1}}&0&\\dots&0 \\\\0&0&0&\\sqrt{2\\kappa_{-N+1}}&\\dots&0 \\\\ \\vdots & \\vdots & \\vdots& \\vdots & \\ddots & \\vdots\\\\ 0 & 0 & 0 & 0 & \\dots & \\sqrt{2\\kappa_N}\\end{bmatrix}$"
   ]
  },
  {
   "cell_type": "markdown",
   "metadata": {},
   "source": [
    "## Lyapunov Equation\n",
    "\n",
    "The continuous Lyapunov equation is $AX+XA^H+Q=0$\n",
    "\n",
    "Where $Q$ is Hermitian (equivalent to $D$ in our case - which is real and symmetric, hence Hermitian), $A^H$ is the conjugate transpose of $A$ (equivalent to $M^T$ and $M$ as $M$ is a real matrix).\n",
    "\n",
    "So it seems like the Lyapunov Equation is the way to go!\n",
    "\n",
    "The (continuous-time) solution is:\n",
    "\n",
    "$X = \\int_0^\\infty e^{A_\\tau}Qe^{A^H_\\tau}d\\tau$\n",
    "\n",
    "i.e. for us:\n",
    "\n",
    "$V = \\int_0^\\infty e^{M_\\tau}De^{M^T_\\tau}d\\tau$\n",
    "\n",
    "with a solution given in https://dl.acm.org/doi/10.1145/361573.361582, which is integrated into python in scipy.linalg.solve_lyaponov"
   ]
  },
  {
   "cell_type": "code",
   "execution_count": null,
   "metadata": {},
   "outputs": [],
   "source": []
  }
 ],
 "metadata": {
  "kernelspec": {
   "display_name": "Python 3",
   "language": "python",
   "name": "python3"
  },
  "language_info": {
   "codemirror_mode": {
    "name": "ipython",
    "version": 3
   },
   "file_extension": ".py",
   "mimetype": "text/x-python",
   "name": "python",
   "nbconvert_exporter": "python",
   "pygments_lexer": "ipython3",
   "version": "3.8.3"
  }
 },
 "nbformat": 4,
 "nbformat_minor": 4
}
