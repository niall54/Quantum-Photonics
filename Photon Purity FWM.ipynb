{
 "cells": [
  {
   "cell_type": "markdown",
   "metadata": {},
   "source": [
    "### Paper\n",
    "This work follows the method given in _\"Truly unentangled photon pairs without spectral filtering\"_ Vernon 2017\n"
   ]
  },
  {
   "cell_type": "markdown",
   "metadata": {},
   "source": [
    "_Latex commands in this cell_\n",
    "$\\newcommand{\\ket}[1]{\\left|{#1}\\right\\rangle}$\n",
    "$\\newcommand{\\bra}[1]{\\left\\langle{#1}\\right|}$\n",
    "$\\newcommand{\\braket}[2]{\\left\\langle{#1} \\middle| {#2}\\right\\rangle}$\n",
    "$\\DeclareMathOperator{\\Tr}{\\text{Tr}}$"
   ]
  },
  {
   "cell_type": "code",
   "execution_count": 60,
   "metadata": {},
   "outputs": [],
   "source": [
    "import numpy as np\n",
    "import matplotlib.pyplot as plt\n",
    "import warnings\n",
    "warnings.filterwarnings('ignore')"
   ]
  },
  {
   "cell_type": "markdown",
   "metadata": {},
   "source": [
    "### Purity of a hearalded state\n",
    "\n",
    "The existance of a quantum state can be heralded by generating it as one of a bi-partite pair. A measurement of the second particle necessitates the existance of the first. However, bi-partite quantum states can show residual correlations, under which the information losing heralding measurement manfiests itself as decoherence in the heralded state.\n",
    "\n",
    "Take the (maximally entangled!) Bell state:\n",
    "\n",
    "$\\ket{\\Phi^+} = \\frac{1}{\\sqrt{2}}\\left(\\ket{00} + \\ket{11} \\right)$\n",
    "\n",
    "with density matrix:\n",
    "$\\rho = \\ket{\\Phi^+}\\bra{\\Phi^+}=\\frac{1}{2}\\left(\\ket{00}\\bra{00}+\\ket{00}\\bra{11}+\\ket{11}\\bra{00}+\\ket{11}\\bra{11} \\right)$\n",
    "\n",
    "A heralding measurement on the second qubit is just a partial trace over this space, with the heralded state given by:\n",
    "\n",
    "$\\begin{equation*}\n",
    "\\begin{split}\n",
    "\\rho^a &= \\Tr_b \\rho = \\sum_{j \\in \\left \\{0,1 \\right \\}} \\left( \\mathbb{1}_a \\otimes \\bra{j}_b \\right) \\rho\\left( \\mathbb{1}_a \\otimes \\ket{j}_b \\right) \\\\ &= \\frac{1}{2}\\left(\\ket{0}\\bra{0}+\\ket{0}\\bra{1}+\\ket{1}\\bra{0}+\\ket{1}\\bra{1} \\right)\n",
    "\\end{split}\n",
    "\\end{equation*}$\n",
    "\n",
    "whose off-diagonal elements imply a mixed state... The purity of which is given by:\n",
    "\n",
    "$\\begin{equation*}\n",
    "\\begin{split}\n",
    "\\gamma &= \\Tr \\left(\\rho^a\\right)^2 \\\\\n",
    "&= \\frac{1}{4}\\sum_{i\\in\\{0,1\\}} \\bra{i} \\left(\\ket{0}\\bra{0}+\\ket{0}\\bra{1}+\\ket{1}\\bra{0}+\\ket{1}\\bra{1} \\right)\\left(\\ket{0}\\bra{0}+\\ket{0}\\bra{1}+\\ket{1}\\bra{0}+\\ket{1}\\bra{1} \\right) \\ket{i} \\\\\n",
    "&=\\frac{1}{4}\\sum_{i\\in\\{0,1\\}} \\bra{i} \\left( \\ket{0}\\bra{0} +\\ket{0}\\bra{1} +\\ket{1}\\bra{0}+\\ket{1}\\bra{1} \\right)  \\ket{i} \\text{as} \\braket{n}{m} = \\delta_{n,m} \\\\\n",
    "\\gamma&=\\frac{1}{2} \n",
    "\\end{split}\n",
    "\\end{equation*}$\n",
    "\n",
    "which is the minimum purity ($\\frac{1}{d}$) for a state in a 2-dimensional Hilbert space i.e. partial tracing a maximally entangled bi-partite state yields a minimally pure heralded state."
   ]
  },
  {
   "cell_type": "markdown",
   "metadata": {},
   "source": [
    "### Squeezed Vacuum State\n",
    "\n",
    "Four-wave mixing in a resonator leads to a squeezed vacuum in the signal-idler modes, given by:\n",
    "\n",
    "$\\ket{\\phi} = c_0 \\ket{0,0} + \\beta \\ket{1,1} + \\gamma \\ket{2,2} + ...$\n",
    "\n",
    "Where the first term is the vacuum term, the second term is the (desired) single photon pair state and subsequent terms are ignored for low power."
   ]
  },
  {
   "cell_type": "markdown",
   "metadata": {},
   "source": [
    "### Single Photon Pair State\n",
    "\n",
    "<img src=\"modes.png\" width=400 title=\"FWM Modes\">\n",
    "\n",
    "The above image shows the modes involved in the four-wave-mixing (FWM). A pump laser, of spectral shape $\\alpha_P\\left(\\omega \\right)$ pumps a resonator mode of shape $l_P\\left(\\omega \\right)$. This leads to the generation of photon pairs in the signal and idler modes ($S$ and $L$), which have central frequencies $\\omega_I$ ($I \\in \\{S,L\\}$), a spectral shape $l_I\\left(\\omega_i \\right)$ where $\\omega_i (i \\in \\{s,i\\})$ parametises these resonances as offsets from the central frequency.  "
   ]
  },
  {
   "cell_type": "markdown",
   "metadata": {},
   "source": [
    "The single photon pair state is then given by:\n",
    "\n",
    "$\\ket{1,1} = \\int d\\omega_i d\\omega_s \\phi\\left(\\omega_i,\\omega_s \\right) \\hat{a}^\\dagger_I\\left(\\omega_i\\right)\\hat{a}^\\dagger_S\\left(\\omega_s\\right)\\ket{0,0}$\n",
    "\n",
    "where $\\hat{a}^\\dagger_I$ is the creation operatior for a photon in mode $I$."
   ]
  },
  {
   "cell_type": "markdown",
   "metadata": {},
   "source": [
    "The biphoton wavefunction $\\phi\\left(\\omega_i,\\omega_s \\right)$ holds all information about the purity of the generated states, with perfect purity for a separable wavefunction $\\phi\\left(\\omega_i,\\omega_s \\right) = \\phi\\left(\\omega_i \\right)\\phi\\left(\\omega_s \\right)$ i.e. with no remaining frequency entanglement in the signal-idler."
   ]
  },
  {
   "cell_type": "markdown",
   "metadata": {},
   "source": [
    "### Biphoton Wavefunction\n",
    "\n",
    "$\\phi\\left(\\omega_i, \\omega_s \\right) \\propto F_P\\left(\\omega_i + \\omega_s \\right)l_S\\left(\\omega_s\\right)l_I\\left(\\omega_i\\right)$\n",
    "\n",
    "where\n",
    "\n",
    "$F_P\\left(\\omega\\right) = \\int d\\omega_p \\alpha_P\\left(\\omega_p\\right)\\alpha_P\\left(\\omega-\\omega_p\\right) l_P\\left(\\omega_p\\right)l_P\\left(\\omega-\\omega_p\\right)$ \n",
    "\n",
    "is the term that leads to modal entanglement and is dependent on the pump spectrum."
   ]
  },
  {
   "cell_type": "markdown",
   "metadata": {},
   "source": [
    "### Purity of heralded state\n",
    "\n",
    "The density matrix associated with the $\\ket{1,1}$ state is:\n",
    "\n",
    "$\\begin{equation*}\n",
    "\\begin{split}\n",
    "\\rho &= \\ket{1,1}\\bra{1,1} \\\\\n",
    "&= \\int d \\omega_I d\\omega_{II} d\\omega_{III} d\\omega_{IV} \\phi\\left(\\omega_I,\\omega_{II} \\right)\\phi^*\\left(\\omega_{III},\\omega_{IV} \\right) \\hat{a}^\\dagger_I\\left(\\omega_I\\right)\\hat{a}^\\dagger_S\\left(\\omega_{II}\\right)\\ket{0,0}\\bra{0,0}\\hat{a}_I\\left(\\omega_{III}\\right)\\hat{a}_S\\left(\\omega_{IV}\\right)\n",
    "\\end{split}\n",
    "\\end{equation*}$\n",
    "\n",
    "The heralded idler state upon measurement of a signal photon is given by the partial trace:\n",
    "\n",
    "\n",
    "$\\begin{equation*}\n",
    "\\begin{split}\n",
    "\\rho_I &= \\Tr_S \\rho \\\\\n",
    "&= \\int d \\omega_s \\bra{0,0}\\left(\\mathbb{1}_I\\otimes\\hat{a}_S\\left(\\omega_s \\right) \\right) \\rho \\left(\\mathbb{1}_I\\otimes\\hat{a}^\\dagger_S\\left(\\omega_s \\right) \\right) \\ket{0,0} \\\\\n",
    "&= \\int d \\omega_s d \\omega_I d\\omega_{II} d\\omega_{III} d\\omega_{IV} \\phi\\left(\\omega_I,\\omega_{II} \\right)\\phi^*\\left(\\omega_{III},\\omega_{IV} \\right) \\bra{0}_S\\left(\\mathbb{1}_I\\otimes\\hat{a}_S\\left(\\omega_s \\right) \\right) \\hat{a}^\\dagger_I\\left(\\omega_I\\right)\\hat{a}^\\dagger_S\\left(\\omega_{II}\\right)\\ket{0,0}\\bra{0,0}\\hat{a}_I\\left(\\omega_{III}\\right)\\hat{a}_S\\left(\\omega_{IV}\\right) \\left(\\mathbb{1}_I\\otimes\\hat{a}^\\dagger_S\\left(\\omega_s \\right) \\right) \\ket{0}_S\\\\\n",
    "&= \\int d \\omega_s d \\omega_I d\\omega_{II} d\\omega_{III} d\\omega_{IV} \\phi\\left(\\omega_I,\\omega_{II} \\right)\\phi^*\\left(\\omega_{III},\\omega_{IV} \\right) \\hat{a}^\\dagger_I\\left(\\omega_I\\right)\\ket{0}\\bra{0}\\hat{a}_I\\left(\\omega_{III}\\right)  \\delta\\left(\\omega_s - \\omega_{II} \\right) \\delta\\left(\\omega_s - \\omega_{IV} \\right) \\\\\n",
    "&= \\int d \\omega_s d \\omega_I  d\\omega_{III} \\phi\\left(\\omega_I,\\omega_s \\right)\\phi^*\\left(\\omega_{III},\\omega_s \\right)  \\hat{a}^\\dagger_I\\left(\\omega_I\\right)\\ket{0}\\bra{0}\\hat{a}_I\\left(\\omega_{III}\\right) \\\\\n",
    "&= \\int d\\omega_1 d\\omega_{2} q_I\\left(\\omega_1, \\omega_{2} \\right) \\hat{a}^\\dagger_I\\left(\\omega_1\\right)\\ket{0}\\bra{0}\\hat{a}_I\\left(\\omega_2\\right)\n",
    "\\end{split}\n",
    "\\end{equation*}$\n",
    "\n",
    "where:\n",
    "\n",
    "$q_I\\left(\\omega_1, \\omega_{2} \\right) = \\int d\\omega_s \\phi\\left(\\omega_1,\\omega_s \\right)\\phi^*\\left(\\omega_{2},\\omega_s \\right)$\n",
    "\n",
    "Now the purity of this state is found as the trace of the density matrix squared:\n",
    "\n",
    "$\\begin{equation*}\n",
    "\\begin{split}\n",
    "\\gamma &= \\Tr \\left(\\rho_I\\right)^2 \\\\\n",
    "&= \\int d\\omega_i \\bra{0} \\hat{a}\\left(\\omega_i\\right) \\left(\\rho_I\\right)^2 \\hat{a}^\\dagger\\left(\\omega_i\\right) \\ket{0}\\\\\n",
    "&= \\int d\\omega_i d\\omega_{1,2,3,4} q_I\\left(\\omega_1, \\omega_{2} \\right)q_I\\left(\\omega_3, \\omega_{4} \\right)\\bra{0} \\hat{a}\\left(\\omega_i\\right) \\hat{a}^\\dagger_I\\left(\\omega_1\\right)\\ket{0}\\bra{0}\\hat{a}_I\\left(\\omega_2\\right)\\hat{a}^\\dagger_I\\left(\\omega_3\\right)\\ket{0}\\bra{0}\\hat{a}_I\\left(\\omega_4\\right) \\hat{a}^\\dagger\\left(\\omega_i\\right) \\ket{0} \\\\\n",
    "&= \\int d\\omega_i d\\omega_{1,2,3,4} q_I\\left(\\omega_1, \\omega_{2} \\right)q_I\\left(\\omega_3, \\omega_{4} \\right) \\delta \\left(\\omega_i - \\omega_1 \\right) \\delta \\left(\\omega_i - \\omega_4 \\right) \\delta \\left(\\omega_2 - \\omega_3 \\right)\\\\\n",
    "&= \\int d\\omega_{1,2} q_I\\left(\\omega_1, \\omega_{2} \\right)q_I\\left(\\omega_2, \\omega_{1} \\right)\\\\\n",
    "\\gamma&= \\int d\\omega_{1,2} \\left|q_I\\left(\\omega_1, \\omega_{2} \\right)\\right|^2\n",
    "\\end{split}\n",
    "\\end{equation*}$\n",
    "\n",
    "as\n",
    "\n",
    "$q_I\\left(\\omega_1, \\omega_{2} \\right) = q^*_I\\left(\\omega_2, \\omega_{1} \\right)$"
   ]
  },
  {
   "cell_type": "code",
   "execution_count": 62,
   "metadata": {},
   "outputs": [],
   "source": [
    "class Distribution:\n",
    "    def __init__(self,\n",
    "                dtype = 'Lorentzian',\n",
    "                linewidth = 1.0,\n",
    "                col = 'k'):\n",
    "        \"\"\"\n",
    "        This object gives a distribution (either Lorentzian or Gaussian [thus far]) which can be subsequently \n",
    "        called to give the respective amplitude at specified frequencies\n",
    "        \"\"\"\n",
    "        self.dtype = dtype # Type of distribution\n",
    "        self.lw = linewidth # Width of the distribution\n",
    "        self.col = col # Colour to be plotted\n",
    "    def getAmp(self,\n",
    "              omega = 0.0):\n",
    "        \"\"\"\n",
    "        This function returns the value of the distribution at a given frequency\n",
    "        \"\"\"\n",
    "        amp = None\n",
    "        if self.dtype == 'Lorentzian':\n",
    "            amp = (self.lw/(2*np.pi))**0.5 *1/(1.0j*omega+0.5*self.lw)\n",
    "        elif self.dtype == 'Gaussian':\n",
    "            amp = (1/(self.lw*(2*np.pi)**0.5))*np.exp(-0.5*(omega/self.lw)**2)\n",
    "        else:\n",
    "            print('Distribution of type: {} is not defined'.format(self.dtype))\n",
    "        \n",
    "        return amp"
   ]
  },
  {
   "cell_type": "code",
   "execution_count": 55,
   "metadata": {},
   "outputs": [],
   "source": [
    "class Resonator:\n",
    "    def __init__(self,\n",
    "                pModeLw = 1.0,\n",
    "                sModeLw = 1.0,\n",
    "                iModeLw = 1.0,\n",
    "                pType = 'Gaussian',\n",
    "                pLw = 1):\n",
    "        \"\"\"\n",
    "        This object gives the parameters required to calculate the spectral purity of photons made from spontaneous\n",
    "        four-wave-mixing of two photons into a signal and idler pair. The pumped mode, along with the signal and \n",
    "        idler modes are assumed to be Lorentzian, with linewidths given by the user. The pump laser can have any\n",
    "        distribution.\n",
    "        \"\"\"\n",
    "        self.pMode = Distribution(dtype = 'Lorentzian', linewidth = pModeLw, col='k')\n",
    "        self.sMode = Distribution(dtype = 'Lorentzian', linewidth = sModeLw, col='r')\n",
    "        self.iMode = Distribution(dtype = 'Lorentzian', linewidth = iModeLw, col='b')\n",
    "        self.pump = Distribution(dtype=pType, linewidth = pLw, col = 'g')\n",
    "        \n",
    "    def getWavefunction(self, omega_i = 0.0, omega_s = 0.0):\n",
    "        \"\"\"\n",
    "        This function gives the biphoton wavefunction value for omega_i and omega_s. Eq. 3 of paper.\n",
    "        \"\"\"\n",
    "        F_P = self.getFP(omega_i+omega_s)\n",
    "        wavefunctionValue = F_P * self.sMode.getAmp(omega_s) * self.iMode.getAmp(omega_i)\n",
    "        return wavefunctionValue\n",
    "    \n",
    "    def getFP(self,omega=0.0):\n",
    "        \"\"\"\n",
    "        This function solution to the coherent sum of all energy conserving amplitudes. Eq. 4 of paper.\n",
    "        \"\"\"\n",
    "        omega_p_min = -10\n",
    "        omega_p_max = 10\n",
    "        N = 500\n",
    "        omega_ps = np.linspace(omega_p_min,omega_p_max,N) # Integration variable/domain\n",
    "        integrand = [self.pump.getAmp(omega_p)*\n",
    "                     self.pump.getAmp(omega - omega_p)*\n",
    "                     self.pMode.getAmp(omega_p)*\n",
    "                     self.pMode.getAmp(omega - omega_p)\n",
    "                     for omega_p in omega_ps] # Integrand of equation\n",
    "        F_P = (np.trapz(np.real(integrand), x=omega_ps) +\n",
    "               1.0j*np.trapz(np.imag(integrand), x=omega_ps)) # Value of integration\n",
    "        return F_P"
   ]
  },
  {
   "cell_type": "code",
   "execution_count": 58,
   "metadata": {},
   "outputs": [
    {
     "name": "stdout",
     "output_type": "stream",
     "text": [
      "\n",
      "\n",
      "Calculating wavefunction: |░░░░░░░░░░░░░░░░░░░-| 98.0%\n",
      "\n",
      "Calculating purity: 98.0% complete\n",
      "\n",
      "Calculating wavefunction: |░░░░░░░░░░░░░░░░░░░-| 98.0%\n",
      "\n",
      "Calculating purity: 98.0% complete\r"
     ]
    },
    {
     "data": {
      "image/png": "[encoded data removed]",
      "text/plain": [
       "<Figure size 720x720 with 2 Axes>"
      ]
     },
     "metadata": {
      "needs_background": "light"
     },
     "output_type": "display_data"
    }
   ],
   "source": [
    "pModeLWs = [9,10]\n",
    "\n",
    "fig = plt.figure(figsize=(10,10))\n",
    "for I in range(2):\n",
    "    x = Resonator(pLw = 1, pModeLw = pModeLWs[I])\n",
    "    omega_min = -1\n",
    "    omega_max = 1\n",
    "    N = 50\n",
    "    dA = ((omega_max-omega_min)/N)**2\n",
    "    omega_s_s = np.linspace(omega_min, omega_max, N)\n",
    "    omega_i_s = np.linspace(omega_min, omega_max, N)\n",
    "\n",
    "    omega_s_s, omega_i_s = np.meshgrid(omega_s_s, omega_i_s)\n",
    "    waveAmplitude = np.empty((N,N))\n",
    "    waveAmplitude[:] = np.NaN\n",
    "    waveFunction = np.empty((N,N))\n",
    "    waveFunction[:] = np.NaN\n",
    "\n",
    "    nProgress = 20\n",
    "    print('\\n')\n",
    "    for i in range(N):\n",
    "        print('Calculating wavefunction: |{}| {}%'.format(int(i*nProgress/N)*'░'+(nProgress-int(nProgress*i/N))*'-',\n",
    "                                                          100*i/N),end=\"\\r\")\n",
    "        for j in range(N):\n",
    "            omega_s = omega_s_s[i,j]\n",
    "            omega_i = omega_i_s[i,j]\n",
    "            waveAmplitude[i,j] = x.getWavefunction(omega_i = omega_i, omega_s = omega_s)\n",
    "            waveFunction[i,j] = abs(waveAmplitude[i,j])**2\n",
    "\n",
    "    q_i = np.empty((N,N))\n",
    "    q_i[:] = np.NaN\n",
    "    Q_i = np.empty((N,N))\n",
    "    Q_i[:] = np.NaN\n",
    "    print('\\n')\n",
    "    for i in range(N):\n",
    "        print('Calculating purity: {}% complete'.format(100*i/N),end=\"\\r\")\n",
    "        for j in range(N):\n",
    "            integrand = [waveAmplitude[ii,i]*np.conj(waveAmplitude[ii,j]) for ii in range(N)]\n",
    "            q_i[i,j] = np.trapz(integrand,x=np.linspace(omega_min,omega_max,N))\n",
    "            Q_i[i,j] = np.abs(q_i[i,j])**2\n",
    "    print('Purity: {}%'.format())\n",
    "    ax = fig.add_subplot(2,1,I+1)\n",
    "    ax.contourf(omega_s_s,omega_i_s,waveFunction)\n",
    "    ax.set_aspect('equal')"
   ]
  },
  {
   "cell_type": "code",
   "execution_count": 54,
   "metadata": {},
   "outputs": [
    {
     "data": {
      "text/plain": [
       "[<matplotlib.lines.Line2D at 0x1a134700910>]"
      ]
     },
     "execution_count": 54,
     "metadata": {},
     "output_type": "execute_result"
    },
    {
     "data": {
      "image/png": "[encoded data removed]",
      "text/plain": [
       "<Figure size 432x288 with 1 Axes>"
      ]
     },
     "metadata": {
      "needs_background": "light"
     },
     "output_type": "display_data"
    }
   ],
   "source": [
    "x = Resonator(pLw = 2, pModeLw=1)\n",
    "omegas = np.linspace(-10,10,200)\n",
    "fps = [x.getFP(omega) for omega in omegas]\n",
    "plt.plot(omegas,fps)"
   ]
  },
  {
   "cell_type": "markdown",
   "metadata": {},
   "source": [
    "# Possible work\n",
    "We can work on adding:\n",
    " - Higher power, i.e. a squeeezed vacuum state rather than the simple single photon pair state.\n",
    " - Adding nonlinearities/dispersion into the work. This will let us look at the double peaked spectra."
   ]
  },
  {
   "cell_type": "code",
   "execution_count": null,
   "metadata": {},
   "outputs": [],
   "source": []
  }
 ],
 "metadata": {
  "kernelspec": {
   "display_name": "Python 3",
   "language": "python",
   "name": "python3"
  },
  "language_info": {
   "codemirror_mode": {
    "name": "ipython",
    "version": 3
   },
   "file_extension": ".py",
   "mimetype": "text/x-python",
   "name": "python",
   "nbconvert_exporter": "python",
   "pygments_lexer": "ipython3",
   "version": "3.8.3"
  }
 },
 "nbformat": 4,
 "nbformat_minor": 4
}
